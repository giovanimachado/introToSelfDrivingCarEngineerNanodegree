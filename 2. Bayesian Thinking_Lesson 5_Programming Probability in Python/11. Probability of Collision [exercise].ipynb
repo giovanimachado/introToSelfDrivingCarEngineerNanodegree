{
 "cells": [
  {
   "cell_type": "code",
   "execution_count": 7,
   "metadata": {},
   "outputs": [],
   "source": [
    "truth_table =\"\"\"\n",
    "\\  Car 1|\n",
    "  \\     |\n",
    "    \\   |\n",
    "Car 2 \\ |  LEFT  | STRAIGHT | RIGHT\n",
    "___________________________________\n",
    "  LEFT  |  0.5   |  0.25    | 0.1\n",
    "STRAIGHT|  0.25  |  0.02    | 0.1\n",
    " RIGHT  |  0.1   |  0.1     | 0.01\n",
    "\"\"\""
   ]
  },
  {
   "cell_type": "code",
   "execution_count": 8,
   "metadata": {},
   "outputs": [
    {
     "name": "stdout",
     "output_type": "stream",
     "text": [
      "\n",
      "\\  Car 1|\n",
      "  \\     |\n",
      "    \\   |\n",
      "Car 2 \\ |  LEFT  | STRAIGHT | RIGHT\n",
      "___________________________________\n",
      "  LEFT  |  0.5   |  0.25    | 0.1\n",
      "STRAIGHT|  0.25  |  0.02    | 0.1\n",
      " RIGHT  |  0.1   |  0.1     | 0.01\n",
      "\n"
     ]
    }
   ],
   "source": [
    "print(truth_table)"
   ]
  },
  {
   "cell_type": "markdown",
   "metadata": {},
   "source": [
    "The truth table shown above represents the probability of two cars colliding at an intersection if they both attempt a maneuver at the same time. If Car 1 goes straight and car two goes left, for example, there is a probability of collision of 0.25."
   ]
  },
  {
   "cell_type": "code",
   "execution_count": 2,
   "metadata": {},
   "outputs": [],
   "source": [
    "def probability_of_collision(car_1, car_2):\n",
    "    \"\"\"\n",
    "    Calculate the probablity of a collision based on the car turns\n",
    "    Args:\n",
    "        car_1 (string): The turning direction of car_1\n",
    "        car_2 (string): The turning direction of car_2\n",
    "        \n",
    "    Returns:\n",
    "        float: the probability of a collision\n",
    "    \"\"\"\n",
    "    # car_1 and car_2 will each be strings whose value will either be \n",
    "    # \"L\" for left, \"S\" for straight, or \"R\" for right.\n",
    "    probability = 0.0 # you should change this value based on the directions.\n",
    "    \n",
    "    if car_1 == \"L\":\n",
    "        # TODO your code here for when car 1 turns left\n",
    "        if car_2 == \"L\":\n",
    "            probability = .5\n",
    "        elif car_2 ==\"S\":\n",
    "            probability = .25\n",
    "        else:\n",
    "            probability = .1\n",
    "    elif car_1 == \"S\":\n",
    "        # TODO your code here for when car 1 goes straight\n",
    "        if car_2 == \"L\":\n",
    "            probability = .25\n",
    "        elif car_2 ==\"S\":\n",
    "            probability = .02\n",
    "        else:\n",
    "            probability = .1\n",
    "    else:\n",
    "        # TODO your code here for when car 1 turns right\n",
    "        if car_2 == \"L\":\n",
    "            probability = .1\n",
    "        elif car_2 ==\"S\":\n",
    "            probability = .1\n",
    "        else:\n",
    "            probability = .01\n",
    "            \n",
    "    return probability"
   ]
  },
  {
   "cell_type": "code",
   "execution_count": 3,
   "metadata": {},
   "outputs": [
    {
     "name": "stdout",
     "output_type": "stream",
     "text": [
      "You got 4 out of 4 correct\n"
     ]
    }
   ],
   "source": [
    "# This function is used to test the correctness of your code. You shouldn't\n",
    "# touch any of the code below here (but feel free to look through it to\n",
    "# understand what \"correct\" looks like).\n",
    "def test():\n",
    "    num_correct = 0\n",
    "    \n",
    "    p1 = probability_of_collision(\"L\", \"L\")\n",
    "    if p1 == 0.5:\n",
    "        num_correct += 1\n",
    "    \n",
    "    p2 = probability_of_collision(\"L\", \"R\")\n",
    "    if p2 == 0.1:\n",
    "        num_correct += 1\n",
    "    \n",
    "    p3 = probability_of_collision(\"L\", \"S\")\n",
    "    if p3 == 0.25:\n",
    "        num_correct += 1\n",
    "    \n",
    "    p4 = probability_of_collision(\"S\", \"R\")\n",
    "    if p4 == 0.1:\n",
    "        num_correct += 1\n",
    "    \n",
    "    print(\"You got\", num_correct, \"out of 4 correct\")\n",
    "    \n",
    "test()"
   ]
  },
  {
   "cell_type": "code",
   "execution_count": null,
   "metadata": {},
   "outputs": [],
   "source": []
  }
 ],
 "metadata": {
  "kernelspec": {
   "display_name": "Python 3",
   "language": "python",
   "name": "python3"
  },
  "language_info": {
   "codemirror_mode": {
    "name": "ipython",
    "version": 3
   },
   "file_extension": ".py",
   "mimetype": "text/x-python",
   "name": "python",
   "nbconvert_exporter": "python",
   "pygments_lexer": "ipython3",
   "version": "3.6.5"
  }
 },
 "nbformat": 4,
 "nbformat_minor": 2
}
