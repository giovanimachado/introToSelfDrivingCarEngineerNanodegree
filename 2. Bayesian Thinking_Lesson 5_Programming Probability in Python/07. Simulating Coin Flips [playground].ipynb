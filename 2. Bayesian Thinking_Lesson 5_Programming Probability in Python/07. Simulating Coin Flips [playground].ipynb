{
 "cells": [
  {
   "cell_type": "markdown",
   "metadata": {},
   "source": [
    "# Simulating Coin Flips [playground]\n",
    "The code below shows how you can use Python (and the `random` library) to simulate coin flips.\n",
    "\n",
    "### Instructions\n",
    "\n",
    "1. Read through the code below. What do you think you'll see when you run this code?\n",
    "\n",
    "2. Run the code. How does the output compare to what you expected?\n",
    "\n",
    "3. Run a few more times. Do you get the same result?\n",
    "\n",
    "4. How might you change the code to ensure that the \"percent heads\" is **consistently** close to 50%? Try modifying the code so that the output is consistently within 1% of 50% (HINT: you can do this by changing ONE of the numbers in the first few lines of code)."
   ]
  },
  {
   "cell_type": "code",
   "execution_count": 67,
   "metadata": {},
   "outputs": [],
   "source": [
    "problem = \"\"\"Houston, \n",
    "we have a problem!\n",
    "\n",
    "\"\"\"\n",
    "\n",
    "newline_character = \"\\n\""
   ]
  },
  {
   "cell_type": "code",
   "execution_count": 21,
   "metadata": {},
   "outputs": [
    {
     "name": "stdout",
     "output_type": "stream",
     "text": [
      "In 100 trials there were 47 heads and 53 tails\n",
      "PERCENT HEADS: 47.0 percent\n"
     ]
    }
   ],
   "source": [
    "# Import the random module and reference it as rd\n",
    "import random as rd\n",
    "\n",
    "num_trials = 100 # Sets the number of flips\n",
    "heads = 0 # A counter for the number of heads\n",
    "tails = 0 # A counter for the number of tails\n",
    "p_heads = 0.5 # The probability for heads\n",
    "\n",
    "# Simulate coin flips up to the num_trials specified\n",
    "for i in range(num_trials):\n",
    "    # Collect a random number between [0,1]\n",
    "    random_number = rd.random()\n",
    "    # If the number is less than p_heads count it as heads\n",
    "    # Otherwise, count it as tails\n",
    "    if random_number < p_heads:\n",
    "        heads = heads + 1\n",
    "    else:\n",
    "        tails += 1\n",
    "\n",
    "print(\"In\", num_trials, \"trials there were\", heads, \"heads and\", tails, \"tails\")\n",
    "print(\"PERCENT HEADS:\", 100 * heads/num_trials, \"percent\")"
   ]
  },
  {
   "cell_type": "code",
   "execution_count": 22,
   "metadata": {},
   "outputs": [],
   "source": [
    "# TODO - modify ONE LINE of the above code so that \n",
    "#        running the code above consistently gives a \n",
    "#        \"percent heads\" that's between 49 - 51 percent"
   ]
  },
  {
   "cell_type": "code",
   "execution_count": 75,
   "metadata": {},
   "outputs": [
    {
     "name": "stdout",
     "output_type": "stream",
     "text": [
      "In 100000 trials there were 50133 heads and 49867 tails\n",
      "PERCENT HEADS: 50.133 percent\n",
      "\n",
      "\n",
      "In 100000 trials there were 50097 heads and 49903 tails\n",
      "PERCENT HEADS: 50.097 percent\n",
      "\n",
      "\n",
      "In 100000 trials there were 50222 heads and 49778 tails\n",
      "PERCENT HEADS: 50.222 percent\n",
      "\n",
      "\n",
      "In 100000 trials there were 49907 heads and 50093 tails\n",
      "PERCENT HEADS: 49.907 percent\n",
      "\n",
      "\n",
      "In 100000 trials there were 50137 heads and 49863 tails\n",
      "PERCENT HEADS: 50.137 percent\n",
      "\n",
      "\n",
      "In 100000 trials there were 49657 heads and 50343 tails\n",
      "PERCENT HEADS: 49.657 percent\n",
      "\n",
      "\n",
      "In 100000 trials there were 49934 heads and 50066 tails\n",
      "PERCENT HEADS: 49.934 percent\n",
      "\n",
      "\n",
      "In 100000 trials there were 50057 heads and 49943 tails\n",
      "PERCENT HEADS: 50.057 percent\n",
      "\n",
      "\n",
      "In 100000 trials there were 49655 heads and 50345 tails\n",
      "PERCENT HEADS: 49.655 percent\n",
      "\n",
      "\n",
      "In 100000 trials there were 49956 heads and 50044 tails\n",
      "PERCENT HEADS: 49.956 percent\n",
      "\n",
      "\n"
     ]
    }
   ],
   "source": [
    "# Import the random module and reference it as rd\n",
    "import random as rd\n",
    "for i in range(10):\n",
    "    num_trials = 100000 # Sets the number of flips\n",
    "    heads = 0 # A counter for the number of heads\n",
    "    tails = 0 # A counter for the number of tails\n",
    "    p_heads = 0.5 # The probability for heads\n",
    "\n",
    "    # Simulate coin flips up to the num_trials specified\n",
    "    for i in range(num_trials):\n",
    "        # Collect a random number between [0,1]\n",
    "        random_number = rd.random()\n",
    "        # If the number is less than p_heads count it as heads\n",
    "        # Otherwise, count it as tails\n",
    "        if random_number < p_heads:\n",
    "            heads = heads + 1\n",
    "        else:\n",
    "            tails += 1\n",
    "    \n",
    "    print(\"In\", num_trials, \"trials there were\", heads, \"heads and\", tails, \"tails\")\n",
    "    print(\"PERCENT HEADS:\", 100 * heads/num_trials, \"percent\")\n",
    "    if (heads/num_trials < .49) or (.51 < heads/num_trials):\n",
    "        print(problem)\n",
    "    print(newline_character)"
   ]
  },
  {
   "cell_type": "code",
   "execution_count": null,
   "metadata": {},
   "outputs": [],
   "source": []
  }
 ],
 "metadata": {
  "kernelspec": {
   "display_name": "Python 3",
   "language": "python",
   "name": "python3"
  },
  "language_info": {
   "codemirror_mode": {
    "name": "ipython",
    "version": 3
   },
   "file_extension": ".py",
   "mimetype": "text/x-python",
   "name": "python",
   "nbconvert_exporter": "python",
   "pygments_lexer": "ipython3",
   "version": "3.6.3"
  }
 },
 "nbformat": 4,
 "nbformat_minor": 2
}
